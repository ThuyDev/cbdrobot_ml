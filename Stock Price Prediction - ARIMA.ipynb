{
 "cells": [
  {
   "cell_type": "code",
   "execution_count": 2,
   "metadata": {},
   "outputs": [],
   "source": [
    "import json\n",
    "import numpy as np\n",
    "import pandas as pd\n",
    "from matplotlib import pyplot\n",
    "\n",
    "from pandas.io.json import json_normalize"
   ]
  },
  {
   "cell_type": "code",
   "execution_count": 1,
   "metadata": {},
   "outputs": [],
   "source": [
    "import pickle\n",
    "\n",
    "pkl_file = open('FBO.pkl', 'rb')\n",
    "\n",
    "or_df = pickle.load(pkl_file)"
   ]
  },
  {
   "cell_type": "code",
   "execution_count": 3,
   "metadata": {},
   "outputs": [
    {
     "data": {
      "text/html": [
       "<div>\n",
       "<style scoped>\n",
       "    .dataframe tbody tr th:only-of-type {\n",
       "        vertical-align: middle;\n",
       "    }\n",
       "\n",
       "    .dataframe tbody tr th {\n",
       "        vertical-align: top;\n",
       "    }\n",
       "\n",
       "    .dataframe thead th {\n",
       "        text-align: right;\n",
       "    }\n",
       "</style>\n",
       "<table border=\"1\" class=\"dataframe\">\n",
       "  <thead>\n",
       "    <tr style=\"text-align: right;\">\n",
       "      <th></th>\n",
       "      <th>time</th>\n",
       "      <th>assetCode</th>\n",
       "      <th>assetName</th>\n",
       "      <th>volume</th>\n",
       "      <th>close</th>\n",
       "      <th>open</th>\n",
       "      <th>returnsClosePrevRaw1</th>\n",
       "      <th>returnsOpenPrevRaw1</th>\n",
       "      <th>returnsClosePrevMktres1</th>\n",
       "      <th>returnsOpenPrevMktres1</th>\n",
       "      <th>returnsClosePrevRaw10</th>\n",
       "      <th>returnsOpenPrevRaw10</th>\n",
       "      <th>returnsClosePrevMktres10</th>\n",
       "      <th>returnsOpenPrevMktres10</th>\n",
       "      <th>returnsOpenNextMktres10</th>\n",
       "      <th>universe</th>\n",
       "    </tr>\n",
       "  </thead>\n",
       "  <tbody>\n",
       "    <tr>\n",
       "      <th>2144901</th>\n",
       "      <td>2012-07-05 22:00:00+00:00</td>\n",
       "      <td>FB.O</td>\n",
       "      <td>Facebook Inc</td>\n",
       "      <td>10036688.0</td>\n",
       "      <td>31.47</td>\n",
       "      <td>31.32</td>\n",
       "      <td>0.008654</td>\n",
       "      <td>0.013592</td>\n",
       "      <td>NaN</td>\n",
       "      <td>NaN</td>\n",
       "      <td>-0.004114</td>\n",
       "      <td>-0.018797</td>\n",
       "      <td>NaN</td>\n",
       "      <td>NaN</td>\n",
       "      <td>-0.081106</td>\n",
       "      <td>1.0</td>\n",
       "    </tr>\n",
       "    <tr>\n",
       "      <th>2146606</th>\n",
       "      <td>2012-07-06 22:00:00+00:00</td>\n",
       "      <td>FB.O</td>\n",
       "      <td>Facebook Inc</td>\n",
       "      <td>10949006.0</td>\n",
       "      <td>31.73</td>\n",
       "      <td>31.44</td>\n",
       "      <td>0.008262</td>\n",
       "      <td>0.003831</td>\n",
       "      <td>0.015405</td>\n",
       "      <td>0.004763</td>\n",
       "      <td>-0.003455</td>\n",
       "      <td>-0.007262</td>\n",
       "      <td>NaN</td>\n",
       "      <td>NaN</td>\n",
       "      <td>-0.116958</td>\n",
       "      <td>1.0</td>\n",
       "    </tr>\n",
       "    <tr>\n",
       "      <th>2148309</th>\n",
       "      <td>2012-07-09 22:00:00+00:00</td>\n",
       "      <td>FB.O</td>\n",
       "      <td>Facebook Inc</td>\n",
       "      <td>17785180.0</td>\n",
       "      <td>32.17</td>\n",
       "      <td>32.10</td>\n",
       "      <td>0.013867</td>\n",
       "      <td>0.020992</td>\n",
       "      <td>0.015065</td>\n",
       "      <td>0.020124</td>\n",
       "      <td>-0.026626</td>\n",
       "      <td>-0.009565</td>\n",
       "      <td>NaN</td>\n",
       "      <td>NaN</td>\n",
       "      <td>-0.111803</td>\n",
       "      <td>1.0</td>\n",
       "    </tr>\n",
       "    <tr>\n",
       "      <th>2150013</th>\n",
       "      <td>2012-07-10 22:00:00+00:00</td>\n",
       "      <td>FB.O</td>\n",
       "      <td>Facebook Inc</td>\n",
       "      <td>14276996.0</td>\n",
       "      <td>31.47</td>\n",
       "      <td>32.43</td>\n",
       "      <td>-0.021759</td>\n",
       "      <td>0.010280</td>\n",
       "      <td>-0.015475</td>\n",
       "      <td>0.010127</td>\n",
       "      <td>-0.018403</td>\n",
       "      <td>-0.013686</td>\n",
       "      <td>NaN</td>\n",
       "      <td>NaN</td>\n",
       "      <td>-0.096991</td>\n",
       "      <td>1.0</td>\n",
       "    </tr>\n",
       "    <tr>\n",
       "      <th>2151716</th>\n",
       "      <td>2012-07-11 22:00:00+00:00</td>\n",
       "      <td>FB.O</td>\n",
       "      <td>Facebook Inc</td>\n",
       "      <td>13027752.0</td>\n",
       "      <td>30.97</td>\n",
       "      <td>31.48</td>\n",
       "      <td>-0.015888</td>\n",
       "      <td>-0.029294</td>\n",
       "      <td>-0.015876</td>\n",
       "      <td>-0.029331</td>\n",
       "      <td>-0.064350</td>\n",
       "      <td>-0.036720</td>\n",
       "      <td>NaN</td>\n",
       "      <td>NaN</td>\n",
       "      <td>-0.092014</td>\n",
       "      <td>1.0</td>\n",
       "    </tr>\n",
       "  </tbody>\n",
       "</table>\n",
       "</div>"
      ],
      "text/plain": [
       "                              time assetCode     assetName      volume  close  \\\n",
       "2144901  2012-07-05 22:00:00+00:00      FB.O  Facebook Inc  10036688.0  31.47   \n",
       "2146606  2012-07-06 22:00:00+00:00      FB.O  Facebook Inc  10949006.0  31.73   \n",
       "2148309  2012-07-09 22:00:00+00:00      FB.O  Facebook Inc  17785180.0  32.17   \n",
       "2150013  2012-07-10 22:00:00+00:00      FB.O  Facebook Inc  14276996.0  31.47   \n",
       "2151716  2012-07-11 22:00:00+00:00      FB.O  Facebook Inc  13027752.0  30.97   \n",
       "\n",
       "          open  returnsClosePrevRaw1  returnsOpenPrevRaw1  \\\n",
       "2144901  31.32              0.008654             0.013592   \n",
       "2146606  31.44              0.008262             0.003831   \n",
       "2148309  32.10              0.013867             0.020992   \n",
       "2150013  32.43             -0.021759             0.010280   \n",
       "2151716  31.48             -0.015888            -0.029294   \n",
       "\n",
       "         returnsClosePrevMktres1  returnsOpenPrevMktres1  \\\n",
       "2144901                      NaN                     NaN   \n",
       "2146606                 0.015405                0.004763   \n",
       "2148309                 0.015065                0.020124   \n",
       "2150013                -0.015475                0.010127   \n",
       "2151716                -0.015876               -0.029331   \n",
       "\n",
       "         returnsClosePrevRaw10  returnsOpenPrevRaw10  \\\n",
       "2144901              -0.004114             -0.018797   \n",
       "2146606              -0.003455             -0.007262   \n",
       "2148309              -0.026626             -0.009565   \n",
       "2150013              -0.018403             -0.013686   \n",
       "2151716              -0.064350             -0.036720   \n",
       "\n",
       "         returnsClosePrevMktres10  returnsOpenPrevMktres10  \\\n",
       "2144901                       NaN                      NaN   \n",
       "2146606                       NaN                      NaN   \n",
       "2148309                       NaN                      NaN   \n",
       "2150013                       NaN                      NaN   \n",
       "2151716                       NaN                      NaN   \n",
       "\n",
       "         returnsOpenNextMktres10  universe  \n",
       "2144901                -0.081106       1.0  \n",
       "2146606                -0.116958       1.0  \n",
       "2148309                -0.111803       1.0  \n",
       "2150013                -0.096991       1.0  \n",
       "2151716                -0.092014       1.0  "
      ]
     },
     "execution_count": 3,
     "metadata": {},
     "output_type": "execute_result"
    }
   ],
   "source": [
    "or_df.head()"
   ]
  },
  {
   "cell_type": "code",
   "execution_count": 4,
   "metadata": {
    "scrolled": true
   },
   "outputs": [
    {
     "name": "stdout",
     "output_type": "stream",
     "text": [
      "(1131, 16)\n",
      "---------\n",
      "From: 2012-07-05 22:00:00+00:00\n",
      "To  : 2016-12-30 22:00:00+00:00\n",
      "---------\n",
      "['FB.O']\n"
     ]
    }
   ],
   "source": [
    "print(or_df.shape)\n",
    "print('---------')\n",
    "print(\"From:\", or_df.time.min())\n",
    "print(\"To  :\", or_df.time.max())\n",
    "print('---------')\n",
    "print(or_df.assetCode.unique())"
   ]
  },
  {
   "cell_type": "code",
   "execution_count": 3,
   "metadata": {},
   "outputs": [
    {
     "name": "stderr",
     "output_type": "stream",
     "text": [
      "/home/bot/.local/lib/python3.6/site-packages/ipykernel_launcher.py:2: SettingWithCopyWarning: \n",
      "A value is trying to be set on a copy of a slice from a DataFrame.\n",
      "Try using .loc[row_indexer,col_indexer] = value instead\n",
      "\n",
      "See the caveats in the documentation: http://pandas.pydata.org/pandas-docs/stable/indexing.html#indexing-view-versus-copy\n",
      "  \n"
     ]
    },
    {
     "data": {
      "text/html": [
       "<div>\n",
       "<style scoped>\n",
       "    .dataframe tbody tr th:only-of-type {\n",
       "        vertical-align: middle;\n",
       "    }\n",
       "\n",
       "    .dataframe tbody tr th {\n",
       "        vertical-align: top;\n",
       "    }\n",
       "\n",
       "    .dataframe thead th {\n",
       "        text-align: right;\n",
       "    }\n",
       "</style>\n",
       "<table border=\"1\" class=\"dataframe\">\n",
       "  <thead>\n",
       "    <tr style=\"text-align: right;\">\n",
       "      <th></th>\n",
       "      <th>time</th>\n",
       "      <th>volume</th>\n",
       "      <th>close</th>\n",
       "      <th>date</th>\n",
       "    </tr>\n",
       "  </thead>\n",
       "  <tbody>\n",
       "    <tr>\n",
       "      <th>2144901</th>\n",
       "      <td>2012-07-05 22:00:00+00:00</td>\n",
       "      <td>10036688.0</td>\n",
       "      <td>31.47</td>\n",
       "      <td>2012-07-05</td>\n",
       "    </tr>\n",
       "    <tr>\n",
       "      <th>2146606</th>\n",
       "      <td>2012-07-06 22:00:00+00:00</td>\n",
       "      <td>10949006.0</td>\n",
       "      <td>31.73</td>\n",
       "      <td>2012-07-06</td>\n",
       "    </tr>\n",
       "    <tr>\n",
       "      <th>2148309</th>\n",
       "      <td>2012-07-09 22:00:00+00:00</td>\n",
       "      <td>17785180.0</td>\n",
       "      <td>32.17</td>\n",
       "      <td>2012-07-09</td>\n",
       "    </tr>\n",
       "    <tr>\n",
       "      <th>2150013</th>\n",
       "      <td>2012-07-10 22:00:00+00:00</td>\n",
       "      <td>14276996.0</td>\n",
       "      <td>31.47</td>\n",
       "      <td>2012-07-10</td>\n",
       "    </tr>\n",
       "    <tr>\n",
       "      <th>2151716</th>\n",
       "      <td>2012-07-11 22:00:00+00:00</td>\n",
       "      <td>13027752.0</td>\n",
       "      <td>30.97</td>\n",
       "      <td>2012-07-11</td>\n",
       "    </tr>\n",
       "  </tbody>\n",
       "</table>\n",
       "</div>"
      ],
      "text/plain": [
       "                              time      volume  close        date\n",
       "2144901  2012-07-05 22:00:00+00:00  10036688.0  31.47  2012-07-05\n",
       "2146606  2012-07-06 22:00:00+00:00  10949006.0  31.73  2012-07-06\n",
       "2148309  2012-07-09 22:00:00+00:00  17785180.0  32.17  2012-07-09\n",
       "2150013  2012-07-10 22:00:00+00:00  14276996.0  31.47  2012-07-10\n",
       "2151716  2012-07-11 22:00:00+00:00  13027752.0  30.97  2012-07-11"
      ]
     },
     "execution_count": 3,
     "metadata": {},
     "output_type": "execute_result"
    }
   ],
   "source": [
    "df = or_df[['time', 'volume', 'close']]\n",
    "df['date'] = pd.to_datetime(df.time).dt.date\n",
    "\n",
    "df.head()"
   ]
  },
  {
   "cell_type": "code",
   "execution_count": 4,
   "metadata": {},
   "outputs": [
    {
     "data": {
      "text/html": [
       "<div>\n",
       "<style scoped>\n",
       "    .dataframe tbody tr th:only-of-type {\n",
       "        vertical-align: middle;\n",
       "    }\n",
       "\n",
       "    .dataframe tbody tr th {\n",
       "        vertical-align: top;\n",
       "    }\n",
       "\n",
       "    .dataframe thead th {\n",
       "        text-align: right;\n",
       "    }\n",
       "</style>\n",
       "<table border=\"1\" class=\"dataframe\">\n",
       "  <thead>\n",
       "    <tr style=\"text-align: right;\">\n",
       "      <th></th>\n",
       "      <th>time</th>\n",
       "      <th>volume</th>\n",
       "      <th>close</th>\n",
       "      <th>date</th>\n",
       "    </tr>\n",
       "  </thead>\n",
       "  <tbody>\n",
       "    <tr>\n",
       "      <th>0</th>\n",
       "      <td>2012-07-05 22:00:00+00:00</td>\n",
       "      <td>10036688.0</td>\n",
       "      <td>31.47</td>\n",
       "      <td>2012-07-05</td>\n",
       "    </tr>\n",
       "    <tr>\n",
       "      <th>1</th>\n",
       "      <td>2012-07-06 22:00:00+00:00</td>\n",
       "      <td>10949006.0</td>\n",
       "      <td>31.73</td>\n",
       "      <td>2012-07-06</td>\n",
       "    </tr>\n",
       "    <tr>\n",
       "      <th>2</th>\n",
       "      <td>2012-07-09 22:00:00+00:00</td>\n",
       "      <td>17785180.0</td>\n",
       "      <td>32.17</td>\n",
       "      <td>2012-07-09</td>\n",
       "    </tr>\n",
       "    <tr>\n",
       "      <th>3</th>\n",
       "      <td>2012-07-10 22:00:00+00:00</td>\n",
       "      <td>14276996.0</td>\n",
       "      <td>31.47</td>\n",
       "      <td>2012-07-10</td>\n",
       "    </tr>\n",
       "    <tr>\n",
       "      <th>4</th>\n",
       "      <td>2012-07-11 22:00:00+00:00</td>\n",
       "      <td>13027752.0</td>\n",
       "      <td>30.97</td>\n",
       "      <td>2012-07-11</td>\n",
       "    </tr>\n",
       "  </tbody>\n",
       "</table>\n",
       "</div>"
      ],
      "text/plain": [
       "                        time      volume  close        date\n",
       "0  2012-07-05 22:00:00+00:00  10036688.0  31.47  2012-07-05\n",
       "1  2012-07-06 22:00:00+00:00  10949006.0  31.73  2012-07-06\n",
       "2  2012-07-09 22:00:00+00:00  17785180.0  32.17  2012-07-09\n",
       "3  2012-07-10 22:00:00+00:00  14276996.0  31.47  2012-07-10\n",
       "4  2012-07-11 22:00:00+00:00  13027752.0  30.97  2012-07-11"
      ]
     },
     "execution_count": 4,
     "metadata": {},
     "output_type": "execute_result"
    }
   ],
   "source": [
    "# filter data\n",
    "\n",
    "df = df.sort_values(by=['date'])\n",
    "df = df.reset_index()\n",
    "\n",
    "df = df.drop(['index'], axis=1)\n",
    "\n",
    "df.head()"
   ]
  },
  {
   "cell_type": "code",
   "execution_count": 7,
   "metadata": {},
   "outputs": [
    {
     "data": {
      "text/plain": [
       "time      0\n",
       "volume    0\n",
       "close     0\n",
       "date      0\n",
       "dtype: int64"
      ]
     },
     "execution_count": 7,
     "metadata": {},
     "output_type": "execute_result"
    }
   ],
   "source": [
    "df.isna().sum()"
   ]
  },
  {
   "cell_type": "code",
   "execution_count": 5,
   "metadata": {},
   "outputs": [],
   "source": [
    "# new feature\n",
    "# 1. difference 1 day\n",
    "df['diff_1'] = [df.close[i] - df.close[i-1] if i>=1 else 0 for i in df.index]\n"
   ]
  },
  {
   "cell_type": "code",
   "execution_count": 9,
   "metadata": {},
   "outputs": [
    {
     "data": {
      "text/html": [
       "<div>\n",
       "<style scoped>\n",
       "    .dataframe tbody tr th:only-of-type {\n",
       "        vertical-align: middle;\n",
       "    }\n",
       "\n",
       "    .dataframe tbody tr th {\n",
       "        vertical-align: top;\n",
       "    }\n",
       "\n",
       "    .dataframe thead th {\n",
       "        text-align: right;\n",
       "    }\n",
       "</style>\n",
       "<table border=\"1\" class=\"dataframe\">\n",
       "  <thead>\n",
       "    <tr style=\"text-align: right;\">\n",
       "      <th></th>\n",
       "      <th>time</th>\n",
       "      <th>volume</th>\n",
       "      <th>close</th>\n",
       "      <th>date</th>\n",
       "      <th>diff_1</th>\n",
       "      <th>diff_5</th>\n",
       "    </tr>\n",
       "  </thead>\n",
       "  <tbody>\n",
       "    <tr>\n",
       "      <th>1126</th>\n",
       "      <td>2016-12-23 22:00:00+00:00</td>\n",
       "      <td>10889985.0</td>\n",
       "      <td>117.27</td>\n",
       "      <td>2016-12-23</td>\n",
       "      <td>-0.13</td>\n",
       "      <td>-2.60</td>\n",
       "    </tr>\n",
       "    <tr>\n",
       "      <th>1127</th>\n",
       "      <td>2016-12-27 22:00:00+00:00</td>\n",
       "      <td>12051481.0</td>\n",
       "      <td>118.01</td>\n",
       "      <td>2016-12-27</td>\n",
       "      <td>0.74</td>\n",
       "      <td>-1.23</td>\n",
       "    </tr>\n",
       "    <tr>\n",
       "      <th>1128</th>\n",
       "      <td>2016-12-28 22:00:00+00:00</td>\n",
       "      <td>12087377.0</td>\n",
       "      <td>116.92</td>\n",
       "      <td>2016-12-28</td>\n",
       "      <td>-1.09</td>\n",
       "      <td>-2.17</td>\n",
       "    </tr>\n",
       "    <tr>\n",
       "      <th>1129</th>\n",
       "      <td>2016-12-29 22:00:00+00:00</td>\n",
       "      <td>9934873.0</td>\n",
       "      <td>116.35</td>\n",
       "      <td>2016-12-29</td>\n",
       "      <td>-0.57</td>\n",
       "      <td>-2.69</td>\n",
       "    </tr>\n",
       "    <tr>\n",
       "      <th>1130</th>\n",
       "      <td>2016-12-30 22:00:00+00:00</td>\n",
       "      <td>18684106.0</td>\n",
       "      <td>115.05</td>\n",
       "      <td>2016-12-30</td>\n",
       "      <td>-1.30</td>\n",
       "      <td>-2.35</td>\n",
       "    </tr>\n",
       "  </tbody>\n",
       "</table>\n",
       "</div>"
      ],
      "text/plain": [
       "                           time      volume   close        date  diff_1  \\\n",
       "1126  2016-12-23 22:00:00+00:00  10889985.0  117.27  2016-12-23   -0.13   \n",
       "1127  2016-12-27 22:00:00+00:00  12051481.0  118.01  2016-12-27    0.74   \n",
       "1128  2016-12-28 22:00:00+00:00  12087377.0  116.92  2016-12-28   -1.09   \n",
       "1129  2016-12-29 22:00:00+00:00   9934873.0  116.35  2016-12-29   -0.57   \n",
       "1130  2016-12-30 22:00:00+00:00  18684106.0  115.05  2016-12-30   -1.30   \n",
       "\n",
       "      diff_5  \n",
       "1126   -2.60  \n",
       "1127   -1.23  \n",
       "1128   -2.17  \n",
       "1129   -2.69  \n",
       "1130   -2.35  "
      ]
     },
     "execution_count": 9,
     "metadata": {},
     "output_type": "execute_result"
    }
   ],
   "source": [
    "df.tail()"
   ]
  },
  {
   "cell_type": "code",
   "execution_count": 10,
   "metadata": {},
   "outputs": [
    {
     "data": {
      "text/plain": [
       "<matplotlib.axes._subplots.AxesSubplot at 0x7f2d68b64438>"
      ]
     },
     "execution_count": 10,
     "metadata": {},
     "output_type": "execute_result"
    },
    {
     "data": {
      "image/png": "[encoded data removed]",
      "text/plain": [
       "<Figure size 432x288 with 1 Axes>"
      ]
     },
     "metadata": {
      "needs_background": "light"
     },
     "output_type": "display_data"
    }
   ],
   "source": [
    "df.close.plot()"
   ]
  },
  {
   "cell_type": "markdown",
   "metadata": {},
   "source": [
    "### ==> TREND tăng giá"
   ]
  },
  {
   "cell_type": "markdown",
   "metadata": {},
   "source": [
    "# ARIMA"
   ]
  },
  {
   "cell_type": "code",
   "execution_count": 5,
   "metadata": {},
   "outputs": [],
   "source": [
    "from pandas import Series\n",
    "from statsmodels.tsa.stattools import adfuller"
   ]
  },
  {
   "cell_type": "markdown",
   "metadata": {},
   "source": [
    "## Describe diff_1"
   ]
  },
  {
   "cell_type": "code",
   "execution_count": 77,
   "metadata": {},
   "outputs": [
    {
     "name": "stdout",
     "output_type": "stream",
     "text": [
      "count    1131.000000\n",
      "mean        0.073899\n",
      "std         1.439707\n",
      "min        -7.170000\n",
      "25%        -0.600000\n",
      "50%         0.060000\n",
      "75%         0.784500\n",
      "max        14.660000\n",
      "Name: diff_1, dtype: float64\n"
     ]
    },
    {
     "data": {
      "text/plain": [
       "<matplotlib.axes._subplots.AxesSubplot at 0x7f2d5c9dcb00>"
      ]
     },
     "execution_count": 77,
     "metadata": {},
     "output_type": "execute_result"
    },
    {
     "data": {
      "image/png": "[encoded data removed]",
      "text/plain": [
       "<Figure size 432x288 with 1 Axes>"
      ]
     },
     "metadata": {
      "needs_background": "light"
     },
     "output_type": "display_data"
    }
   ],
   "source": [
    "print(df.diff_1.describe())\n",
    "df.diff_1.plot()"
   ]
  },
  {
   "cell_type": "code",
   "execution_count": 78,
   "metadata": {},
   "outputs": [
    {
     "name": "stderr",
     "output_type": "stream",
     "text": [
      "/home/bot/.local/lib/python3.6/site-packages/matplotlib/__init__.py:886: MatplotlibDeprecationWarning: \n",
      "examples.directory is deprecated; in the future, examples will be found relative to the 'datapath' directory.\n",
      "  \"found relative to the 'datapath' directory.\".format(key))\n"
     ]
    },
    {
     "data": {
      "image/png": "[encoded data removed]",
      "text/plain": [
       "<Figure size 432x288 with 2 Axes>"
      ]
     },
     "metadata": {
      "needs_background": "light"
     },
     "output_type": "display_data"
    }
   ],
   "source": [
    "pyplot.figure(1)\n",
    "pyplot.subplot(211)\n",
    "df.diff_1.hist()\n",
    "pyplot.subplot(212)\n",
    "df.diff_1.plot(kind='kde')\n",
    "pyplot.show()"
   ]
  },
  {
   "cell_type": "markdown",
   "metadata": {},
   "source": [
    "### ==> DIFF_1: mean ~ 0, PP gần chuẩn"
   ]
  },
  {
   "cell_type": "code",
   "execution_count": 124,
   "metadata": {},
   "outputs": [
    {
     "data": {
      "text/plain": [
       "<Figure size 864x1152 with 0 Axes>"
      ]
     },
     "metadata": {},
     "output_type": "display_data"
    },
    {
     "data": {
      "image/png": "[encoded data removed]",
      "text/plain": [
       "<Figure size 432x288 with 4 Axes>"
      ]
     },
     "metadata": {
      "needs_background": "light"
     },
     "output_type": "display_data"
    }
   ],
   "source": [
    "from statsmodels.tsa.seasonal import seasonal_decompose\n",
    "\n",
    "pyplot.figure(figsize=[12,16])\n",
    "result = seasonal_decompose(df.close, model='additive', freq=1)\n",
    "result.plot()\n",
    "pyplot.show()"
   ]
  },
  {
   "cell_type": "markdown",
   "metadata": {},
   "source": [
    "### CLOSE: TREND tăng, no SEASONAL\n"
   ]
  },
  {
   "cell_type": "markdown",
   "metadata": {},
   "source": [
    "### Kiểm định tính dừng"
   ]
  },
  {
   "cell_type": "code",
   "execution_count": 6,
   "metadata": {},
   "outputs": [],
   "source": [
    "def chkStationary(series):\n",
    "    # create a differe\n",
    "    def difference(dataset):\n",
    "        diff = list()\n",
    "        for i in range(1, len(dataset)):\n",
    "            value = dataset[i] - dataset[i - 1]\n",
    "            diff.append(value)\n",
    "        return Series(diff)\n",
    "\n",
    "    X = series.values\n",
    "    # difference data\n",
    "    stationary = difference(X)\n",
    "    stationary.index = series.index[1:]\n",
    "    # check if stationary\n",
    "    result = adfuller(stationary)\n",
    "    print('ADF Statistic: %f' % result[0])\n",
    "    print('p-value: %f' % result[1])\n",
    "    print('Critical Values:')\n",
    "    for key, value in result[4].items():\n",
    "        print('\\t%s: %.3f' % (key, value))"
   ]
  },
  {
   "cell_type": "code",
   "execution_count": 123,
   "metadata": {},
   "outputs": [
    {
     "name": "stdout",
     "output_type": "stream",
     "text": [
      "ADF Statistic: -15.643280\n",
      "p-value: 0.000000\n",
      "Critical Values:\n",
      "\t1%: -3.436\n",
      "\t5%: -2.864\n",
      "\t10%: -2.568\n"
     ]
    }
   ],
   "source": [
    "chkStationary(df.close)"
   ]
  },
  {
   "cell_type": "markdown",
   "metadata": {},
   "source": [
    "### p-value=0 -> is STATIONARY\n",
    "### ==> chọn d=1(ARIMA model)"
   ]
  },
  {
   "cell_type": "markdown",
   "metadata": {},
   "source": [
    "# ARIMA model"
   ]
  },
  {
   "cell_type": "code",
   "execution_count": 6,
   "metadata": {},
   "outputs": [
    {
     "data": {
      "image/png": "[encoded data removed]",
      "text/plain": [
       "<Figure size 864x576 with 2 Axes>"
      ]
     },
     "metadata": {
      "needs_background": "light"
     },
     "output_type": "display_data"
    }
   ],
   "source": [
    "from statsmodels.graphics.tsaplots import plot_acf\n",
    "from statsmodels.graphics.tsaplots import plot_pacf\n",
    "\n",
    "pyplot.figure(figsize=[12,8])\n",
    "pyplot.subplot(211)\n",
    "plot_acf(df.diff_1, ax=pyplot.gca(), lags=100)\n",
    "pyplot.subplot(212)\n",
    "plot_pacf(df.diff_1, ax=pyplot.gca(), lags=30)\n",
    "pyplot.show()"
   ]
  },
  {
   "cell_type": "markdown",
   "metadata": {},
   "source": [
    "#### ==> Significant ACF: \n",
    "#### ==> Significant p-ACF: 0, 1"
   ]
  },
  {
   "cell_type": "code",
   "execution_count": 8,
   "metadata": {},
   "outputs": [],
   "source": [
    "from sklearn.metrics import mean_squared_error\n",
    "from statsmodels.tsa.arima_model import ARIMA\n",
    "from math import sqrt"
   ]
  },
  {
   "cell_type": "code",
   "execution_count": 7,
   "metadata": {},
   "outputs": [],
   "source": [
    "# prepare Train-test\n",
    "from datetime import datetime\n",
    "\n",
    "test_day = datetime(2016, 10, 1).date()\n",
    "idx_test = df[df.date >= test_day][0:1].index[0]\n",
    "\n",
    "X = df.close.values\n",
    "\n",
    "train = X[:idx_test]\n",
    "test = X[idx_test:]\n",
    "# df_train = df[df.date < test_day][5:]\n",
    "# df_test = df[df.date >= test_day]\n",
    "\n",
    "# print('train:', df_train.shape)\n",
    "# print('test:', df_test.shape)"
   ]
  },
  {
   "cell_type": "code",
   "execution_count": 9,
   "metadata": {},
   "outputs": [],
   "source": [
    "def runArima_5d(order, train, test):\n",
    "    # walk-forward validation\n",
    "    history = [x for x in train]\n",
    "    predictions = list()\n",
    "    predictions.append(0)\n",
    "    predictions.append(0)\n",
    "    predictions.append(0)\n",
    "    predictions.append(0)\n",
    "    for i in range(len(test)):\n",
    "        # predict\n",
    "        model = ARIMA(history, order=order)\n",
    "        model_fit = model.fit(disp=0)\n",
    "        yhat = model_fit.forecast(steps=5)[0][4]\n",
    "        predictions.append(yhat)\n",
    "        # observation\n",
    "        obs = test[i]\n",
    "        history.append(obs)\n",
    "        # print('>Predicted=%.3f, Expected=%3.f' % (yhat, obs))\n",
    "\n",
    "    # report performance\n",
    "    mse = mean_squared_error(test[4:], predictions[4:-4])\n",
    "    rmse = sqrt(mse)\n",
    "    print('(p,d,q)=',order,'RMSE: %.3f' % rmse)\n",
    "    \n",
    "    return rmse"
   ]
  },
  {
   "cell_type": "code",
   "execution_count": 12,
   "metadata": {},
   "outputs": [
    {
     "name": "stdout",
     "output_type": "stream",
     "text": [
      "(p,d,q)= (0, 1, 0) RMSE: 4.007\n",
      "(p,d,q)= (0, 1, 1) RMSE: 4.010\n",
      "(p,d,q)= (0, 1, 2) RMSE: 4.010\n",
      "(p,d,q)= (0, 1, 3) RMSE: 3.997\n",
      "(p,d,q)= (1, 1, 0) RMSE: 4.010\n",
      "(p,d,q)= (1, 1, 1) Error!!\n",
      "(p,d,q)= (1, 1, 2) Error!!\n",
      "(p,d,q)= (1, 1, 3) Error!!\n",
      "(p,d,q)= (2, 1, 0) RMSE: 4.008\n",
      "(p,d,q)= (2, 1, 1) RMSE: 4.056\n",
      "(p,d,q)= (2, 1, 2) Error!!\n",
      "(p,d,q)= (2, 1, 3) Error!!\n",
      "(p,d,q)= (3, 1, 0) RMSE: 3.995\n",
      "(p,d,q)= (3, 1, 1) RMSE: 4.060\n",
      "(p,d,q)= (3, 1, 2) RMSE: 4.057\n",
      "(p,d,q)= (3, 1, 3) Error!!\n",
      "(p,d,q)= (4, 1, 0) RMSE: 3.999\n",
      "(p,d,q)= (4, 1, 1) RMSE: 3.903\n"
     ]
    },
    {
     "name": "stderr",
     "output_type": "stream",
     "text": [
      "/home/bot/.local/lib/python3.6/site-packages/statsmodels/base/model.py:488: HessianInversionWarning: Inverting hessian failed, no bse or cov_params available\n",
      "  'available', HessianInversionWarning)\n",
      "/home/bot/.local/lib/python3.6/site-packages/statsmodels/base/model.py:488: HessianInversionWarning: Inverting hessian failed, no bse or cov_params available\n",
      "  'available', HessianInversionWarning)\n",
      "/home/bot/.local/lib/python3.6/site-packages/statsmodels/base/model.py:488: HessianInversionWarning: Inverting hessian failed, no bse or cov_params available\n",
      "  'available', HessianInversionWarning)\n",
      "/home/bot/.local/lib/python3.6/site-packages/statsmodels/base/model.py:488: HessianInversionWarning: Inverting hessian failed, no bse or cov_params available\n",
      "  'available', HessianInversionWarning)\n",
      "/home/bot/.local/lib/python3.6/site-packages/statsmodels/base/model.py:488: HessianInversionWarning: Inverting hessian failed, no bse or cov_params available\n",
      "  'available', HessianInversionWarning)\n",
      "/home/bot/.local/lib/python3.6/site-packages/statsmodels/base/model.py:488: HessianInversionWarning: Inverting hessian failed, no bse or cov_params available\n",
      "  'available', HessianInversionWarning)\n",
      "/home/bot/.local/lib/python3.6/site-packages/statsmodels/base/model.py:488: HessianInversionWarning: Inverting hessian failed, no bse or cov_params available\n",
      "  'available', HessianInversionWarning)\n",
      "/home/bot/.local/lib/python3.6/site-packages/statsmodels/base/model.py:488: HessianInversionWarning: Inverting hessian failed, no bse or cov_params available\n",
      "  'available', HessianInversionWarning)\n",
      "/home/bot/.local/lib/python3.6/site-packages/statsmodels/base/model.py:488: HessianInversionWarning: Inverting hessian failed, no bse or cov_params available\n",
      "  'available', HessianInversionWarning)\n",
      "/home/bot/.local/lib/python3.6/site-packages/statsmodels/base/model.py:488: HessianInversionWarning: Inverting hessian failed, no bse or cov_params available\n",
      "  'available', HessianInversionWarning)\n",
      "/home/bot/.local/lib/python3.6/site-packages/statsmodels/base/model.py:488: HessianInversionWarning: Inverting hessian failed, no bse or cov_params available\n",
      "  'available', HessianInversionWarning)\n",
      "/home/bot/.local/lib/python3.6/site-packages/statsmodels/base/model.py:488: HessianInversionWarning: Inverting hessian failed, no bse or cov_params available\n",
      "  'available', HessianInversionWarning)\n",
      "/home/bot/.local/lib/python3.6/site-packages/statsmodels/tsa/tsatools.py:676: RuntimeWarning: invalid value encountered in log\n",
      "  invmacoefs = -np.log((1-macoefs)/(1+macoefs))\n",
      "/home/bot/.local/lib/python3.6/site-packages/statsmodels/tools/numdiff.py:96: RuntimeWarning: invalid value encountered in maximum\n",
      "  h = EPS**(1. / s) * np.maximum(np.abs(x), 0.1)\n",
      "/home/bot/.local/lib/python3.6/site-packages/statsmodels/base/model.py:488: HessianInversionWarning: Inverting hessian failed, no bse or cov_params available\n",
      "  'available', HessianInversionWarning)\n",
      "/home/bot/.local/lib/python3.6/site-packages/statsmodels/base/model.py:488: HessianInversionWarning: Inverting hessian failed, no bse or cov_params available\n",
      "  'available', HessianInversionWarning)\n",
      "/home/bot/.local/lib/python3.6/site-packages/statsmodels/base/model.py:488: HessianInversionWarning: Inverting hessian failed, no bse or cov_params available\n",
      "  'available', HessianInversionWarning)\n",
      "/home/bot/.local/lib/python3.6/site-packages/statsmodels/base/model.py:488: HessianInversionWarning: Inverting hessian failed, no bse or cov_params available\n",
      "  'available', HessianInversionWarning)\n",
      "/home/bot/.local/lib/python3.6/site-packages/statsmodels/base/model.py:488: HessianInversionWarning: Inverting hessian failed, no bse or cov_params available\n",
      "  'available', HessianInversionWarning)\n",
      "/home/bot/.local/lib/python3.6/site-packages/statsmodels/base/model.py:488: HessianInversionWarning: Inverting hessian failed, no bse or cov_params available\n",
      "  'available', HessianInversionWarning)\n",
      "/home/bot/.local/lib/python3.6/site-packages/statsmodels/base/model.py:488: HessianInversionWarning: Inverting hessian failed, no bse or cov_params available\n",
      "  'available', HessianInversionWarning)\n",
      "/home/bot/.local/lib/python3.6/site-packages/statsmodels/base/model.py:488: HessianInversionWarning: Inverting hessian failed, no bse or cov_params available\n",
      "  'available', HessianInversionWarning)\n",
      "/home/bot/.local/lib/python3.6/site-packages/statsmodels/base/model.py:488: HessianInversionWarning: Inverting hessian failed, no bse or cov_params available\n",
      "  'available', HessianInversionWarning)\n",
      "/home/bot/.local/lib/python3.6/site-packages/statsmodels/base/model.py:488: HessianInversionWarning: Inverting hessian failed, no bse or cov_params available\n",
      "  'available', HessianInversionWarning)\n",
      "/home/bot/.local/lib/python3.6/site-packages/statsmodels/base/model.py:488: HessianInversionWarning: Inverting hessian failed, no bse or cov_params available\n",
      "  'available', HessianInversionWarning)\n",
      "/home/bot/.local/lib/python3.6/site-packages/statsmodels/base/model.py:488: HessianInversionWarning: Inverting hessian failed, no bse or cov_params available\n",
      "  'available', HessianInversionWarning)\n",
      "/home/bot/.local/lib/python3.6/site-packages/statsmodels/base/model.py:488: HessianInversionWarning: Inverting hessian failed, no bse or cov_params available\n",
      "  'available', HessianInversionWarning)\n",
      "/home/bot/.local/lib/python3.6/site-packages/statsmodels/base/model.py:488: HessianInversionWarning: Inverting hessian failed, no bse or cov_params available\n",
      "  'available', HessianInversionWarning)\n",
      "/home/bot/.local/lib/python3.6/site-packages/statsmodels/base/model.py:488: HessianInversionWarning: Inverting hessian failed, no bse or cov_params available\n",
      "  'available', HessianInversionWarning)\n",
      "/home/bot/.local/lib/python3.6/site-packages/statsmodels/base/model.py:508: ConvergenceWarning: Maximum Likelihood optimization failed to converge. Check mle_retvals\n",
      "  \"Check mle_retvals\", ConvergenceWarning)\n",
      "/home/bot/.local/lib/python3.6/site-packages/statsmodels/base/model.py:488: HessianInversionWarning: Inverting hessian failed, no bse or cov_params available\n",
      "  'available', HessianInversionWarning)\n",
      "/home/bot/.local/lib/python3.6/site-packages/statsmodels/base/model.py:488: HessianInversionWarning: Inverting hessian failed, no bse or cov_params available\n",
      "  'available', HessianInversionWarning)\n",
      "/home/bot/.local/lib/python3.6/site-packages/statsmodels/base/model.py:488: HessianInversionWarning: Inverting hessian failed, no bse or cov_params available\n",
      "  'available', HessianInversionWarning)\n",
      "/home/bot/.local/lib/python3.6/site-packages/statsmodels/base/model.py:488: HessianInversionWarning: Inverting hessian failed, no bse or cov_params available\n",
      "  'available', HessianInversionWarning)\n",
      "/home/bot/.local/lib/python3.6/site-packages/statsmodels/base/model.py:488: HessianInversionWarning: Inverting hessian failed, no bse or cov_params available\n",
      "  'available', HessianInversionWarning)\n",
      "/home/bot/.local/lib/python3.6/site-packages/statsmodels/base/model.py:488: HessianInversionWarning: Inverting hessian failed, no bse or cov_params available\n",
      "  'available', HessianInversionWarning)\n",
      "/home/bot/.local/lib/python3.6/site-packages/statsmodels/base/model.py:488: HessianInversionWarning: Inverting hessian failed, no bse or cov_params available\n",
      "  'available', HessianInversionWarning)\n",
      "/home/bot/.local/lib/python3.6/site-packages/statsmodels/base/model.py:488: HessianInversionWarning: Inverting hessian failed, no bse or cov_params available\n",
      "  'available', HessianInversionWarning)\n",
      "/home/bot/.local/lib/python3.6/site-packages/statsmodels/base/model.py:488: HessianInversionWarning: Inverting hessian failed, no bse or cov_params available\n",
      "  'available', HessianInversionWarning)\n",
      "/home/bot/.local/lib/python3.6/site-packages/statsmodels/base/model.py:488: HessianInversionWarning: Inverting hessian failed, no bse or cov_params available\n",
      "  'available', HessianInversionWarning)\n",
      "/home/bot/.local/lib/python3.6/site-packages/statsmodels/base/model.py:488: HessianInversionWarning: Inverting hessian failed, no bse or cov_params available\n",
      "  'available', HessianInversionWarning)\n",
      "/home/bot/.local/lib/python3.6/site-packages/statsmodels/base/model.py:488: HessianInversionWarning: Inverting hessian failed, no bse or cov_params available\n",
      "  'available', HessianInversionWarning)\n"
     ]
    },
    {
     "name": "stderr",
     "output_type": "stream",
     "text": [
      "/home/bot/.local/lib/python3.6/site-packages/statsmodels/base/model.py:488: HessianInversionWarning: Inverting hessian failed, no bse or cov_params available\n",
      "  'available', HessianInversionWarning)\n",
      "/home/bot/.local/lib/python3.6/site-packages/statsmodels/base/model.py:488: HessianInversionWarning: Inverting hessian failed, no bse or cov_params available\n",
      "  'available', HessianInversionWarning)\n",
      "/home/bot/.local/lib/python3.6/site-packages/statsmodels/base/model.py:488: HessianInversionWarning: Inverting hessian failed, no bse or cov_params available\n",
      "  'available', HessianInversionWarning)\n"
     ]
    },
    {
     "name": "stdout",
     "output_type": "stream",
     "text": [
      "(p,d,q)= (4, 1, 2) Error!!\n"
     ]
    },
    {
     "name": "stderr",
     "output_type": "stream",
     "text": [
      "/home/bot/.local/lib/python3.6/site-packages/statsmodels/base/model.py:488: HessianInversionWarning: Inverting hessian failed, no bse or cov_params available\n",
      "  'available', HessianInversionWarning)\n",
      "/home/bot/.local/lib/python3.6/site-packages/statsmodels/base/model.py:488: HessianInversionWarning: Inverting hessian failed, no bse or cov_params available\n",
      "  'available', HessianInversionWarning)\n",
      "/home/bot/.local/lib/python3.6/site-packages/statsmodels/base/model.py:488: HessianInversionWarning: Inverting hessian failed, no bse or cov_params available\n",
      "  'available', HessianInversionWarning)\n",
      "/home/bot/.local/lib/python3.6/site-packages/statsmodels/base/model.py:488: HessianInversionWarning: Inverting hessian failed, no bse or cov_params available\n",
      "  'available', HessianInversionWarning)\n",
      "/home/bot/.local/lib/python3.6/site-packages/statsmodels/base/model.py:488: HessianInversionWarning: Inverting hessian failed, no bse or cov_params available\n",
      "  'available', HessianInversionWarning)\n",
      "/home/bot/.local/lib/python3.6/site-packages/statsmodels/base/model.py:488: HessianInversionWarning: Inverting hessian failed, no bse or cov_params available\n",
      "  'available', HessianInversionWarning)\n",
      "/home/bot/.local/lib/python3.6/site-packages/statsmodels/base/model.py:488: HessianInversionWarning: Inverting hessian failed, no bse or cov_params available\n",
      "  'available', HessianInversionWarning)\n",
      "/home/bot/.local/lib/python3.6/site-packages/statsmodels/base/model.py:488: HessianInversionWarning: Inverting hessian failed, no bse or cov_params available\n",
      "  'available', HessianInversionWarning)\n",
      "/home/bot/.local/lib/python3.6/site-packages/statsmodels/base/model.py:488: HessianInversionWarning: Inverting hessian failed, no bse or cov_params available\n",
      "  'available', HessianInversionWarning)\n",
      "/home/bot/.local/lib/python3.6/site-packages/statsmodels/base/model.py:488: HessianInversionWarning: Inverting hessian failed, no bse or cov_params available\n",
      "  'available', HessianInversionWarning)\n",
      "/home/bot/.local/lib/python3.6/site-packages/statsmodels/base/model.py:488: HessianInversionWarning: Inverting hessian failed, no bse or cov_params available\n",
      "  'available', HessianInversionWarning)\n",
      "/home/bot/.local/lib/python3.6/site-packages/statsmodels/base/model.py:488: HessianInversionWarning: Inverting hessian failed, no bse or cov_params available\n",
      "  'available', HessianInversionWarning)\n",
      "/home/bot/.local/lib/python3.6/site-packages/statsmodels/base/model.py:488: HessianInversionWarning: Inverting hessian failed, no bse or cov_params available\n",
      "  'available', HessianInversionWarning)\n",
      "/home/bot/.local/lib/python3.6/site-packages/statsmodels/base/model.py:488: HessianInversionWarning: Inverting hessian failed, no bse or cov_params available\n",
      "  'available', HessianInversionWarning)\n",
      "/home/bot/.local/lib/python3.6/site-packages/statsmodels/base/model.py:488: HessianInversionWarning: Inverting hessian failed, no bse or cov_params available\n",
      "  'available', HessianInversionWarning)\n",
      "/home/bot/.local/lib/python3.6/site-packages/statsmodels/base/model.py:488: HessianInversionWarning: Inverting hessian failed, no bse or cov_params available\n",
      "  'available', HessianInversionWarning)\n",
      "/home/bot/.local/lib/python3.6/site-packages/statsmodels/base/model.py:488: HessianInversionWarning: Inverting hessian failed, no bse or cov_params available\n",
      "  'available', HessianInversionWarning)\n"
     ]
    },
    {
     "name": "stdout",
     "output_type": "stream",
     "text": [
      "(p,d,q)= (4, 1, 3) RMSE: 3.987\n",
      "Min RMSE: 3.90281889004897\n",
      "Min order: (4, 1, 1)\n"
     ]
    }
   ],
   "source": [
    "import sys\n",
    "min_rmse = sys.maxsize\n",
    "min_order = ''\n",
    "\n",
    "for p in range(5):\n",
    "    for q in range(4):\n",
    "        try:\n",
    "            rmse = runArima_5d((p,1,q), train, test)\n",
    "            if rmse < min_rmse:\n",
    "                min_rmse = rmse\n",
    "                min_order = (p,1,q)\n",
    "        except:\n",
    "            print('(p,d,q)=',(p,1,q),'Error!!')\n",
    "\n",
    "print('Min RMSE:', min_rmse)\n",
    "print('Min order:', min_order)"
   ]
  },
  {
   "cell_type": "code",
   "execution_count": 10,
   "metadata": {},
   "outputs": [
    {
     "name": "stdout",
     "output_type": "stream",
     "text": [
      "(p,d,q)= (0, 1, 0) RMSE: 4.007\n"
     ]
    }
   ],
   "source": [
    "history = [x for x in train]\n",
    "predictions = list()\n",
    "predictions.append(0)\n",
    "predictions.append(0)\n",
    "predictions.append(0)\n",
    "predictions.append(0)\n",
    "for i in range(len(test)):\n",
    "    # predict \n",
    "    model = ARIMA(history, order=(0,1,0))\n",
    "    model_fit = model.fit(disp=0)\n",
    "    yhat = model_fit.forecast(steps=5)[0][4]\n",
    "    predictions.append(yhat)\n",
    "    # observation\n",
    "    obs = test[i]\n",
    "    history.append(obs)\n",
    "    \n",
    "mse = mean_squared_error(test[4:], predictions[4:-4])\n",
    "rmse = sqrt(mse)\n",
    "print('(p,d,q)=',(0,1,0),'RMSE: %.3f' % rmse)    "
   ]
  },
  {
   "cell_type": "code",
   "execution_count": 16,
   "metadata": {},
   "outputs": [
    {
     "data": {
      "image/png": "[encoded data removed]",
      "text/plain": [
       "<Figure size 864x288 with 1 Axes>"
      ]
     },
     "metadata": {
      "needs_background": "light"
     },
     "output_type": "display_data"
    }
   ],
   "source": [
    "# x = np.arange(len(X) -)\n",
    "x1 = np.arange(idx_test - 20, idx_test)\n",
    "x2 = np.arange(idx_test, len(X))\n",
    "\n",
    "pyplot.figure(figsize=[12,4])\n",
    "pyplot.plot(x2, test, 'b-', x2, predictions[4:], 'r-')\n",
    "pyplot.show()"
   ]
  },
  {
   "cell_type": "code",
   "execution_count": null,
   "metadata": {},
   "outputs": [],
   "source": []
  }
 ],
 "metadata": {
  "kernelspec": {
   "display_name": "Python 3",
   "language": "python",
   "name": "python3"
  },
  "language_info": {
   "codemirror_mode": {
    "name": "ipython",
    "version": 3
   },
   "file_extension": ".py",
   "mimetype": "text/x-python",
   "name": "python",
   "nbconvert_exporter": "python",
   "pygments_lexer": "ipython3",
   "version": "3.6.7"
  }
 },
 "nbformat": 4,
 "nbformat_minor": 2
}
